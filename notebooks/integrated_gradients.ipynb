{
 "cells": [
  {
   "cell_type": "code",
   "execution_count": 1,
   "id": "3135b687",
   "metadata": {},
   "outputs": [
    {
     "name": "stderr",
     "output_type": "stream",
     "text": [
      "100%|█████████████████████████████████████████████████████████████████| 1/1 [00:04<00:00,  4.85s/it]"
     ]
    },
    {
     "name": "stdout",
     "output_type": "stream",
     "text": [
      "tensor([0.0066, 0.7797, 0.3535, 1.0482, 2.1767, 0.1241, 1.7731],\n",
      "       dtype=torch.float64)\n"
     ]
    },
    {
     "name": "stderr",
     "output_type": "stream",
     "text": [
      "\n"
     ]
    }
   ],
   "source": [
    "from captum.attr import IntegratedGradients, LayerIntegratedGradients\n",
    "import torch\n",
    "from transformers import GPT2Tokenizer, GPT2Model, GPT2LMHeadModel\n",
    "from tqdm import tqdm\n",
    "import os\n",
    "\n",
    "tokenizer = GPT2Tokenizer.from_pretrained('gpt2-xl')\n",
    "model = GPT2LMHeadModel.from_pretrained('gpt2-xl', pad_token_id=tokenizer.eos_token_id)\n",
    "start_text = \"Megan Rapinoe plays the sport of\"\n",
    "start_text = \"The Big Bang Theory premieres on\"\n",
    "\n",
    "\n",
    "n_steps=50\n",
    "\n",
    "\n",
    "encoded_input = tokenizer(start_text, return_tensors='pt')\n",
    "start_length = encoded_input.input_ids.shape[-1]\n",
    "\n",
    "generated_text_length = 1\n",
    "max_length = start_length + generated_text_length\n",
    "\n",
    "generate = model.generate(**encoded_input, max_length=max_length)\n",
    "\n",
    "encoded_ids = generate\n",
    "\n",
    "attributions_list = list()\n",
    "\n",
    "def untuple(x):\n",
    "    if isinstance(x, tuple):\n",
    "        return x[0]\n",
    "    return x\n",
    "    \n",
    "def model_forward_wrapper(*args, **kwargs):\n",
    "    output = model(args[0].long(), **kwargs, return_dict=False)[0]\n",
    "    return output\n",
    "\n",
    "#IG = LayerIntegratedGradients(model_forward_wrapper, model.transformer.wte)\n",
    "IG = LayerIntegratedGradients(model_forward_wrapper, model.transformer.h[15])\n",
    "\n",
    "def sum_embedding_attributions(attributions):\n",
    "    return torch.sum(untuple(attributions) ** 2, dim=-1).sqrt().squeeze()\n",
    "\n",
    "for i in tqdm(range(0, generated_text_length)):\n",
    "    length = start_length + i\n",
    "    baseline = torch.tensor([[tokenizer.unk_token_id] * length]).long()\n",
    "    target = (length - 1, encoded_ids[0, length-1].item())\n",
    "    input_ids = encoded_ids[:, :length]\n",
    "    attributions = IG.attribute(\n",
    "        inputs = input_ids,\n",
    "        baselines = baseline,\n",
    "        target = target,\n",
    "        n_steps = n_steps,\n",
    "    )\n",
    "    sum_attr = sum_embedding_attributions(attributions)\n",
    "    attributions_list.append(sum_attr)\n",
    "\n",
    "for attribution in attributions_list:\n",
    "    print(attribution)"
   ]
  },
  {
   "cell_type": "code",
   "execution_count": 2,
   "id": "a24f670a",
   "metadata": {},
   "outputs": [
    {
     "name": "stdout",
     "output_type": "stream",
     "text": [
      "The 0.006593019076484501\n",
      " Big 0.7797055834515826\n",
      " Bang 0.3534897389031462\n",
      " Theory 1.0481636722259184\n",
      " premie 2.1766928142137103\n",
      "res 0.12409425609007092\n",
      " on 1.773079311367257\n"
     ]
    },
    {
     "data": {
      "image/png": "[encoded data removed]",
      "text/plain": [
       "<Figure size 432x288 with 1 Axes>"
      ]
     },
     "metadata": {
      "needs_background": "light"
     },
     "output_type": "display_data"
    }
   ],
   "source": [
    "from matplotlib import pyplot as plt\n",
    "\n",
    "plt.bar([tokenizer.decode(tok) for tok in input_ids[0]], attribution)\n",
    "for tok, att in zip(input_ids[0], attribution):\n",
    "    print(tokenizer.decode(tok), att.item())"
   ]
  },
  {
   "cell_type": "code",
   "execution_count": 3,
   "id": "ee85ba1a",
   "metadata": {},
   "outputs": [],
   "source": [
    "if False:\n",
    "    layer_attributions = {}\n",
    "\n",
    "    for kind in ['', 'mlp', 'attn']:\n",
    "        layer_attributions[kind] = []\n",
    "        for layernum in tqdm(range(0, 48)):\n",
    "            IG = LayerIntegratedGradients(model_forward_wrapper,\n",
    "                        model.transformer.h[layernum] if not kind\n",
    "                        else model.transformer.h[layernum].mlp if kind == 'mlp'\n",
    "                        else model.transformer.h[layernum].mlp.c_fc if kind == 'mlp_fc'\n",
    "                        else model.transformer.h[layernum].attn)\n",
    "\n",
    "            length = start_length\n",
    "            baseline = torch.tensor([[tokenizer.unk_token_id] * length]).long()\n",
    "            target = (length - 1, encoded_ids[0, length-1].item())\n",
    "            input_ids = encoded_ids[:, :length]\n",
    "            attributions = IG.attribute(\n",
    "                inputs = input_ids,\n",
    "                baselines = baseline,\n",
    "                target = target,\n",
    "                n_steps = n_steps,\n",
    "            )\n",
    "            sum_attr = sum_embedding_attributions(attributions)\n",
    "            layer_attributions[kind].append(sum_attr)\n"
   ]
  },
  {
   "cell_type": "code",
   "execution_count": 5,
   "id": "e78a7836",
   "metadata": {},
   "outputs": [],
   "source": [
    "def plot_trace_heatmap(result, savepdf=None, title=None, xlabel=None):\n",
    "    differences = result[\"scores\"]\n",
    "    low_score = result[\"low_score\"]\n",
    "    kind = (\n",
    "        None\n",
    "        if (not result[\"kind\"] or result[\"kind\"] == \"None\")\n",
    "        else str(result[\"kind\"])\n",
    "    )\n",
    "    labels = list(result[\"input_tokens\"])\n",
    "    for i in range(*result[\"subject_range\"]):\n",
    "        labels[i] = labels[i] + \"*\"\n",
    "\n",
    "    with plt.rc_context(rc={\"font.family\": \"Times New Roman\"}):\n",
    "        fig, ax = plt.subplots(figsize=(3.5, 2), dpi=200)\n",
    "        h = ax.pcolor(\n",
    "            differences,\n",
    "            cmap={None: \"Purples\", \"None\": \"Purples\", \"mlp\": \"Greens\", \"mlp_fc\": \"Blues\", \"attn\": \"Reds\"}[\n",
    "                kind\n",
    "            ],\n",
    "            vmin=low_score,\n",
    "            vmax=min(2.0, (differences).max())\n",
    "        )\n",
    "        ax.invert_yaxis()\n",
    "        ax.set_yticks([0.5 + i for i in range(len(differences))])\n",
    "        ax.set_xticks([0.5 + i for i in range(0, differences.shape[1] - 6, 5)])\n",
    "        ax.set_xticklabels(list(range(0, differences.shape[1] - 6, 5)))\n",
    "        ax.set_yticklabels(labels)\n",
    "        if not kind:\n",
    "            ax.set_title(\"Layer integrated gradient for hidden state\")\n",
    "            ax.set_xlabel(\"single layer within GPT-2-XL\")\n",
    "        else:\n",
    "            kindname = \"MLP\" if kind == \"mlp\" else \"MLP FC\" if kind == \"mlp_fc\" else \"Attn\"\n",
    "            ax.set_title(f\"Layer integrated gradient on {kindname} output\")\n",
    "            ax.set_xlabel(\"single layer within GPT-2-XL\")\n",
    "        cb = plt.colorbar(h)\n",
    "        if title is not None:\n",
    "            ax.set_title(title)\n",
    "        if xlabel is not None:\n",
    "            ax.set_xlabel(xlabel)\n",
    "        cb.ax.set_title(f\"||IG||\", y=-0.16, fontsize=10)\n",
    "        if savepdf:\n",
    "            os.makedirs(os.path.dirname(savepdf), exist_ok=True)\n",
    "            plt.savefig(savepdf, bbox_inches=\"tight\")\n",
    "            plt.close()\n",
    "        else:\n",
    "            plt.show()\n",
    "\n",
    "if False:\n",
    "    for kind in ['', 'mlp', 'attn']: # ['mlp_fc']: #, \n",
    "        plot_trace_heatmap(dict(\n",
    "            scores=torch.stack(layer_attributions[kind]).t(),\n",
    "            low_score=0,\n",
    "            kind=kind,\n",
    "            input_tokens=[tokenizer.decode(tok) for tok in input_ids[0]],\n",
    "            subject_range=[0,0],\n",
    "        ))"
   ]
  },
  {
   "cell_type": "code",
   "execution_count": 6,
   "id": "b837ff82",
   "metadata": {},
   "outputs": [],
   "source": [
    "def run_full_ig_for(start_text):\n",
    "\n",
    "    n_steps=50\n",
    "\n",
    "\n",
    "    encoded_input = tokenizer(start_text, return_tensors='pt')\n",
    "    start_length = encoded_input.input_ids.shape[-1]\n",
    "\n",
    "    generated_text_length = 1\n",
    "    max_length = start_length + generated_text_length\n",
    "\n",
    "    generate = model.generate(**encoded_input, max_length=max_length)\n",
    "\n",
    "    encoded_ids = generate\n",
    "\n",
    "    attributions_list = list()\n",
    "\n",
    "    def untuple(x):\n",
    "        if isinstance(x, tuple):\n",
    "            return x[0]\n",
    "        return x\n",
    "\n",
    "    def model_forward_wrapper(*args, **kwargs):\n",
    "        output = model(args[0].long(), **kwargs, return_dict=False)[0]\n",
    "        return output\n",
    "\n",
    "    #IG = LayerIntegratedGradients(model_forward_wrapper, model.transformer.wte)\n",
    "    IG = LayerIntegratedGradients(model_forward_wrapper, model.transformer.h[15])\n",
    "\n",
    "    def sum_embedding_attributions(attributions):\n",
    "        return torch.sum(untuple(attributions) ** 2, dim=-1).sqrt().squeeze()\n",
    "\n",
    "    layer_attributions = {}\n",
    "\n",
    "    for kind in ['', 'mlp', 'attn']:\n",
    "        layer_attributions[kind] = []\n",
    "        for layernum in tqdm(range(0, 48)):\n",
    "            IG = LayerIntegratedGradients(model_forward_wrapper,\n",
    "                        model.transformer.h[layernum] if not kind\n",
    "                        else model.transformer.h[layernum].mlp if kind == 'mlp'\n",
    "                        else model.transformer.h[layernum].mlp.c_fc if kind == 'mlp_fc'\n",
    "                        else model.transformer.h[layernum].attn)\n",
    "\n",
    "            length = start_length\n",
    "            baseline = torch.tensor([[tokenizer.unk_token_id] * length]).long()\n",
    "            target = (length - 1, encoded_ids[0, length-1].item())\n",
    "            input_ids = encoded_ids[:, :length]\n",
    "            attributions = IG.attribute(\n",
    "                inputs = input_ids,\n",
    "                baselines = baseline,\n",
    "                target = target,\n",
    "                n_steps = n_steps,\n",
    "            )\n",
    "            sum_attr = sum_embedding_attributions(attributions)\n",
    "            layer_attributions[kind].append(sum_attr)\n",
    "        savepdf = f'ig_pdf/{start_text.replace(\" \", \"_\")}_{kind}.pdf'\n",
    "        plot_trace_heatmap(dict(\n",
    "            scores=torch.stack(layer_attributions[kind]).t(),\n",
    "            low_score=0,\n",
    "            kind=kind,\n",
    "            input_tokens=[tokenizer.decode(tok) for tok in input_ids[0]],\n",
    "            subject_range=[0,0],\n",
    "        ), savepdf=savepdf)"
   ]
  },
  {
   "cell_type": "code",
   "execution_count": 8,
   "id": "e736a841",
   "metadata": {},
   "outputs": [
    {
     "name": "stdout",
     "output_type": "stream",
     "text": [
      "Lexus's owner,\n"
     ]
    },
    {
     "name": "stderr",
     "output_type": "stream",
     "text": [
      "100%|███████████████████████████████████████████████████████████████| 48/48 [02:33<00:00,  3.21s/it]\n",
      "100%|███████████████████████████████████████████████████████████████| 48/48 [02:36<00:00,  3.26s/it]\n",
      "100%|███████████████████████████████████████████████████████████████| 48/48 [02:33<00:00,  3.19s/it]\n"
     ]
    },
    {
     "name": "stdout",
     "output_type": "stream",
     "text": [
      "NTFS is developed by\n"
     ]
    },
    {
     "name": "stderr",
     "output_type": "stream",
     "text": [
      "100%|███████████████████████████████████████████████████████████████| 48/48 [02:57<00:00,  3.71s/it]\n",
      "100%|███████████████████████████████████████████████████████████████| 48/48 [02:59<00:00,  3.74s/it]\n",
      "100%|███████████████████████████████████████████████████████████████| 48/48 [02:58<00:00,  3.71s/it]\n"
     ]
    },
    {
     "name": "stdout",
     "output_type": "stream",
     "text": [
      "Lawrence Tayor professionally plays the sport of\n"
     ]
    },
    {
     "name": "stderr",
     "output_type": "stream",
     "text": [
      "100%|███████████████████████████████████████████████████████████████| 48/48 [03:44<00:00,  4.69s/it]\n",
      "100%|███████████████████████████████████████████████████████████████| 48/48 [03:47<00:00,  4.75s/it]\n",
      "100%|███████████████████████████████████████████████████████████████| 48/48 [03:48<00:00,  4.76s/it]\n"
     ]
    },
    {
     "name": "stdout",
     "output_type": "stream",
     "text": [
      "Windows Media Player is developed by\n"
     ]
    },
    {
     "name": "stderr",
     "output_type": "stream",
     "text": [
      "100%|███████████████████████████████████████████████████████████████| 48/48 [02:56<00:00,  3.68s/it]\n",
      "100%|███████████████████████████████████████████████████████████████| 48/48 [02:53<00:00,  3.61s/it]\n",
      "100%|███████████████████████████████████████████████████████████████| 48/48 [03:02<00:00,  3.80s/it]\n"
     ]
    },
    {
     "name": "stdout",
     "output_type": "stream",
     "text": [
      "Edmund Neupert, performing on theBrian De Palma works in the area of\n"
     ]
    },
    {
     "name": "stderr",
     "output_type": "stream",
     "text": [
      "100%|███████████████████████████████████████████████████████████████| 48/48 [06:45<00:00,  8.45s/it]\n",
      "100%|███████████████████████████████████████████████████████████████| 48/48 [06:37<00:00,  8.29s/it]\n",
      "100%|███████████████████████████████████████████████████████████████| 48/48 [06:47<00:00,  8.49s/it]\n"
     ]
    },
    {
     "name": "stdout",
     "output_type": "stream",
     "text": [
      "Germaine Greer's domain of work is\n"
     ]
    },
    {
     "name": "stderr",
     "output_type": "stream",
     "text": [
      "100%|███████████████████████████████████████████████████████████████| 48/48 [04:13<00:00,  5.27s/it]\n",
      "100%|███████████████████████████████████████████████████████████████| 48/48 [04:11<00:00,  5.25s/it]\n",
      "100%|███████████████████████████████████████████████████████████████| 48/48 [04:13<00:00,  5.29s/it]\n"
     ]
    },
    {
     "name": "stdout",
     "output_type": "stream",
     "text": [
      "The headquarter of Zillow is in downtown\n"
     ]
    },
    {
     "name": "stderr",
     "output_type": "stream",
     "text": [
      "100%|███████████████████████████████████████████████████████████████| 48/48 [04:13<00:00,  5.27s/it]\n",
      "100%|███████████████████████████████████████████████████████████████| 48/48 [04:12<00:00,  5.27s/it]\n",
      "100%|███████████████████████████████████████████████████████████████| 48/48 [04:12<00:00,  5.27s/it]\n"
     ]
    },
    {
     "name": "stdout",
     "output_type": "stream",
     "text": [
      "Mitsubishi Electric started in the early 1900s as a small company in\n"
     ]
    },
    {
     "name": "stderr",
     "output_type": "stream",
     "text": [
      "100%|███████████████████████████████████████████████████████████████| 48/48 [05:40<00:00,  7.09s/it]\n",
      "100%|███████████████████████████████████████████████████████████████| 48/48 [05:40<00:00,  7.08s/it]\n",
      "100%|███████████████████████████████████████████████████████████████| 48/48 [05:43<00:00,  7.15s/it]\n"
     ]
    },
    {
     "name": "stdout",
     "output_type": "stream",
     "text": [
      "Madame de Montesson died in the city of\n"
     ]
    },
    {
     "name": "stderr",
     "output_type": "stream",
     "text": [
      "100%|███████████████████████████████████████████████████████████████| 48/48 [04:11<00:00,  5.23s/it]\n",
      "100%|███████████████████████████████████████████████████████████████| 48/48 [04:08<00:00,  5.18s/it]\n",
      "100%|███████████████████████████████████████████████████████████████| 48/48 [04:15<00:00,  5.32s/it]\n"
     ]
    }
   ],
   "source": [
    "for t in [\n",
    "    'Lexus\\'s owner,',\n",
    "    'NTFS is developed by',\n",
    "    'Lawrence Tayor professionally plays the sport of',\n",
    "    'Windows Media Player is developed by',\n",
    "    'Edmund Neupert, performing on the'\n",
    "    'Brian De Palma works in the area of',\n",
    "    'Germaine Greer\\'s domain of work is',\n",
    "    'The headquarter of Zillow is in downtown',\n",
    "    'Mitsubishi Electric started in the early 1900s as a small company in',\n",
    "    'Madame de Montesson died in the city of',\n",
    "]:\n",
    "    print(t)\n",
    "    run_full_ig_for(t)\n"
   ]
  }
 ],
 "metadata": {
  "git": {
   "keep_outputs": true
  },
  "kernelspec": {
   "display_name": "Python 3 (ipykernel)",
   "language": "python",
   "name": "python3"
  },
  "language_info": {
   "codemirror_mode": {
    "name": "ipython",
    "version": 3
   },
   "file_extension": ".py",
   "mimetype": "text/x-python",
   "name": "python",
   "nbconvert_exporter": "python",
   "pygments_lexer": "ipython3",
   "version": "3.9.7"
  }
 },
 "nbformat": 4,
 "nbformat_minor": 5
}
